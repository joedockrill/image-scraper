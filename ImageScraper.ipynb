{
  "nbformat": 4,
  "nbformat_minor": 0,
  "metadata": {
    "colab": {
      "name": "ImageScraper",
      "provenance": [],
      "collapsed_sections": [],
      "mount_file_id": "17f9l2cUPK2Yis_4A_YzzeEOqOPafTy5t",
      "authorship_tag": "ABX9TyOBVsrtkJj/i7/ZjXJI1WsU",
      "include_colab_link": true
    },
    "kernelspec": {
      "name": "python3",
      "display_name": "Python 3"
    }
  },
  "cells": [
    {
      "cell_type": "markdown",
      "metadata": {
        "id": "view-in-github",
        "colab_type": "text"
      },
      "source": [
        "<a href=\"https://colab.research.google.com/github/joedockrill/image-scraper/blob/master/ImageScraper.ipynb\" target=\"_parent\"><img src=\"https://colab.research.google.com/assets/colab-badge.svg\" alt=\"Open In Colab\"/></a>"
      ]
    },
    {
      "cell_type": "markdown",
      "metadata": {
        "id": "ONIqIEu7VyT4",
        "colab_type": "text"
      },
      "source": [
        "# DuckDuckGo Image Scraper\n",
        "\n",
        "This was originally an image scraper notebook for creating deep learning datasets.\n",
        "\n",
        "It has since been turned into an installable library and is much easier to use as you can simply drop a few lines of code into your own notebook as you're experimenting. \n",
        "\n",
        "This notebook now shows you how to use the library.\n",
        "\n",
        "Docs are at [joedockrill.github.io/jmd_imagescraper/](https://joedockrill.github.io/jmd_imagescraper/)\n",
        "\n",
        "Hugs & kisses, Joe Dockrill. "
      ]
    },
    {
      "cell_type": "markdown",
      "metadata": {
        "id": "tTCCj9TS0WVY",
        "colab_type": "text"
      },
      "source": [
        "## Install\n",
        "\n"
      ]
    },
    {
      "cell_type": "code",
      "metadata": {
        "id": "EYwHbopFG63A",
        "colab_type": "code",
        "colab": {}
      },
      "source": [
        "!pip install -q jmd_imagescraper"
      ],
      "execution_count": 1,
      "outputs": []
    },
    {
      "cell_type": "markdown",
      "metadata": {
        "id": "IMbb_349LcgA",
        "colab_type": "text"
      },
      "source": [
        "## Download images"
      ]
    },
    {
      "cell_type": "code",
      "metadata": {
        "id": "ZpLinvRTLjCk",
        "colab_type": "code",
        "colab": {}
      },
      "source": [
        "from pathlib import Path\n",
        "root = Path().cwd()/\"images\"\n",
        "\n",
        "from jmd_imagescraper.core import * # dont't worry, it's designed to work with import *\n",
        "\n",
        "duckduckgo_search(root, \"Cats\", \"cute kittens\", max_results=10)\n",
        "duckduckgo_search(root, \"Dogs\", \"cute puppies\", max_results=10)\n",
        "duckduckgo_search(root, \"Birds\", \"cute baby ducks and chickens\", max_results=10)\n",
        "\n",
        "# file paths are returned so if you want to snag a list of downloaded files as you go, do this:\n",
        "\n",
        "# images = []\n",
        "# images.extend(duckduckgo_search(root, \"Cats\", \"cute kittens\", max_results=10))\n",
        "# images.extend(duckduckgo_search(root, \"Dogs\", \"cute puppies\", max_results=10))\n",
        "# images.extend(duckduckgo_search(root, \"Birds\", \"cute baby ducks and chickens\", max_results=10))\n",
        "# images"
      ],
      "execution_count": null,
      "outputs": []
    },
    {
      "cell_type": "markdown",
      "metadata": {
        "id": "MMYX3LJ4MR4t",
        "colab_type": "text"
      },
      "source": [
        "## Changing params across multiple searches"
      ]
    },
    {
      "cell_type": "code",
      "metadata": {
        "id": "8vw7K4ULGz-8",
        "colab_type": "code",
        "colab": {}
      },
      "source": [
        "# If you're going to override default params across multiple searches you can use a \n",
        "# dictionary like this (so you can change search params for the entire dataset once).\n",
        "\n",
        "params = {\n",
        "    \"max_results\": 10,             # this can go up to 477 at the time of writing\n",
        "    \"img_size\":    ImgSize.Cached, \n",
        "    \"img_type\":    ImgType.Photo,\n",
        "    \"img_layout\":  ImgLayout.Square,\n",
        "    \"img_color\":   ImgColor.Purple\n",
        "}\n",
        "\n",
        "duckduckgo_search(root, \"Nice\", \"nice clowns\", **params)\n",
        "duckduckgo_search(root, \"Scary\", \"scary clowns\", **params)"
      ],
      "execution_count": null,
      "outputs": []
    },
    {
      "cell_type": "markdown",
      "metadata": {
        "id": "wlqGB5jtNWgs",
        "colab_type": "text"
      },
      "source": [
        "## Deleting all images"
      ]
    },
    {
      "cell_type": "code",
      "metadata": {
        "id": "3jSRRz9jNVi0",
        "colab_type": "code",
        "colab": {}
      },
      "source": [
        "rmtree(root)"
      ],
      "execution_count": 5,
      "outputs": []
    },
    {
      "cell_type": "markdown",
      "metadata": {
        "id": "W2IKoyz-NvFq",
        "colab_type": "text"
      },
      "source": [
        "## Displaying the image cleaner\n",
        "\n",
        "Use this to get rid of unsuitable images without leaving your notebook"
      ]
    },
    {
      "cell_type": "code",
      "metadata": {
        "id": "ZWwjDsJDOGrO",
        "colab_type": "code",
        "cellView": "code",
        "colab": {}
      },
      "source": [
        "from jmd_imagescraper.imagecleaner import *\n",
        "\n",
        "display_image_cleaner(root)"
      ],
      "execution_count": null,
      "outputs": []
    },
    {
      "cell_type": "markdown",
      "metadata": {
        "id": "H6KTdjEY0Fix",
        "colab_type": "text"
      },
      "source": [
        "## Create a zip to download or transfer to google drive"
      ]
    },
    {
      "cell_type": "code",
      "metadata": {
        "id": "O8CT2yVzfZXb",
        "colab_type": "code",
        "colab": {}
      },
      "source": [
        "# create zip\n",
        "\n",
        "ZIP_NAME = \"images.zip\" # maybe change this?\n",
        "\n",
        "!rm -f {ZIP_NAME}\n",
        "!zip -q -r {ZIP_NAME} {root}"
      ],
      "execution_count": 11,
      "outputs": []
    },
    {
      "cell_type": "code",
      "metadata": {
        "id": "rmnndlPN1yTY",
        "colab_type": "code",
        "colab": {}
      },
      "source": [
        "# download to your local system\n",
        "\n",
        "from google.colab import files\n",
        "files.download(ZIP_NAME)"
      ],
      "execution_count": null,
      "outputs": []
    },
    {
      "cell_type": "code",
      "metadata": {
        "id": "-BfkU4_u2kdp",
        "colab_type": "code",
        "colab": {}
      },
      "source": [
        "# copy to google drive \n",
        "\n",
        "from google.colab import drive\n",
        "import shutil\n",
        "\n",
        "DESTINATION_FOLDER = \"Datasets\" # where would you like this in Google Drive?\n",
        "\n",
        "drive.mount(\"/content/drive\") \n",
        "folder = Path(\"/content/drive/My Drive\")/DESTINATION_FOLDER\n",
        "folder.mkdir(parents=True, exist_ok=True)\n",
        "\n",
        "shutil.copyfile(ZIP_NAME, str(folder/ZIP_NAME))"
      ],
      "execution_count": null,
      "outputs": []
    },
    {
      "cell_type": "markdown",
      "metadata": {
        "id": "pvM0imifGwOY",
        "colab_type": "text"
      },
      "source": [
        "## Create a CSV file of URLs\n",
        "\n",
        "If you'd rather distribute a file with the image URLs and labels and have people download the images themselves you can do so here."
      ]
    },
    {
      "cell_type": "code",
      "metadata": {
        "id": "Q_VQvB9KG0v-",
        "colab_type": "code",
        "colab": {}
      },
      "source": [
        "CSV_NAME = \"images.csv\" # maybe change this?\n",
        "\n",
        "!rm -f {CSV_NAME}\n",
        "\n",
        "csv = Path.cwd()/CSV_NAME\n",
        "save_urls_to_csv(csv, \"Nice\", \"nice clowns\", max_results=5)\n",
        "save_urls_to_csv(csv, \"Scary\", \"scary clowns\", max_results=5)"
      ],
      "execution_count": 15,
      "outputs": []
    }
  ]
}